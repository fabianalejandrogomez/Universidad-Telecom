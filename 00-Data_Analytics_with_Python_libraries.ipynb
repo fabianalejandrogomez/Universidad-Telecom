{
  "nbformat": 4,
  "nbformat_minor": 0,
  "metadata": {
    "colab": {
      "name": "Data_Analytics_with_Python_libraries.ipynb",
      "provenance": [],
      "authorship_tag": "ABX9TyMSQ8U1thdMwmAAIbhiWg5w",
      "include_colab_link": true
    },
    "kernelspec": {
      "name": "python3",
      "display_name": "Python 3"
    }
  },
  "cells": [
    {
      "cell_type": "markdown",
      "metadata": {
        "id": "view-in-github",
        "colab_type": "text"
      },
      "source": [
        "<a href=\"https://colab.research.google.com/github/fabianalejandrogomez/Universidad-Telecom/blob/master/00-Data_Analytics_with_Python_libraries.ipynb\" target=\"_parent\"><img src=\"https://colab.research.google.com/assets/colab-badge.svg\" alt=\"Open In Colab\"/></a>"
      ]
    },
    {
      "cell_type": "markdown",
      "metadata": {
        "id": "vl2nHroiyF84",
        "colab_type": "text"
      },
      "source": [
        "# **Universidad Telecom: Data Analytics with Python libraries**"
      ]
    },
    {
      "cell_type": "code",
      "metadata": {
        "id": "TYvRzJVxyCBI",
        "colab_type": "code",
        "colab": {
          "base_uri": "https://localhost:8080/",
          "height": 34
        },
        "outputId": "1ed0c0d5-c1d7-4963-8eec-d75e78d1ef17"
      },
      "source": [
        "print(\"Hola a todos, Bienvenidos al primer curso de Data Analytics with Python libraries\")"
      ],
      "execution_count": 3,
      "outputs": [
        {
          "output_type": "stream",
          "text": [
            "Hola a todos, Bienvenidos al primer curso de Data Analytics with Python libraries\n"
          ],
          "name": "stdout"
        }
      ]
    },
    {
      "cell_type": "markdown",
      "metadata": {
        "id": "MeZ45jIeyEVw",
        "colab_type": "text"
      },
      "source": [
        ""
      ]
    }
  ]
}