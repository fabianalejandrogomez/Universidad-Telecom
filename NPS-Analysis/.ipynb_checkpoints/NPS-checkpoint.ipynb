{
  "cells": [
    {
      "metadata": {
        "trusted": true
      },
      "cell_type": "code",
      "source": "try:\n    entrada = open(\"2018NPS_Resultados.csv\", \"rt\", encoding = \"utf-8\")\n    salida = open(\"2018NPS_ResultadosFinales.txt\", \"wt\", encoding = \"utf-8\")\n    head = entrada.readline()\n    head = head.rstrip(\"\\n\")\n    print(head)\n    nombreemp = []\n    promomovi = 0\n    detramovi = 0\n    promopers = 0\n    detrapers = 0\n    promoclaro = 0\n    detraclaro = 0\n\n\n    \n    for linea in entrada:\n        linea = entrada.readline()\n        linea = linea.rstrip(\"\\n\")\n        ide,empresa,nps,npstipo,causa1,causa2,causa3,region,prod,verbatim,verbatim2,problema,servicio,conveniencia,relacionamiento  = linea.split(\",\")\n        nps = int(nps)\n        \n        \n        if verbatim.upper().find(\"PRECIO\")!=-1:\n            salida.write(verbatim)\n            salida.write(\"\\n\\n\")\n            \n        \n        for nombre in empresa:\n            nombreemp.append(empresa)\n            operador = dict.fromkeys(nombreemp)    \n            if (nps == 10 or nps == 9)and(empresa==\"Movistar\"):\n                promomovi = promomovi + 1\n            elif (nps <= 6) and (empresa==\"Movistar\"):\n                detramovi = detramovi + 1\n            if (nps == 10 or nps == 9)and(empresa==\"Personal\"):\n                promopers = promopers + 1\n            elif (nps <= 6) and (empresa==\"Personal\"):\n                detrapers = detrapers + 1\n            if (nps == 10 or nps == 9)and(empresa==\"Claro\"):\n                promoclaro = promoclaro + 1\n            elif (nps <= 6) and (empresa==\"Claro\"):\n                detraclaro = detraclaro + 1\n\n\n    operador[\"Movistar\"] = promomovi-detramovi\n    operador[\"Personal\"] = promopers-detrapers\n    operador[\"Claro\"] = promoclaro-detraclaro\n    print(operador)\n\n\n    listaoperador = list(operador.items())  # Convertimos el diccionario en una lista para poder ordenarlo \n    listaoperador.sort(key=lambda x:x[1], reverse= True)   # Odenamos la lista por el segundo elemento de cada tupla\n    print(listaoperador)\n    salida.write(str(listaoperador))\n    \n\nexcept (FileNotFoundError, OSError) as error:\n    print(\"ERROR:\", error)\nfinally:\n    try:\n        entrada.close()\n        salida.close()\n        \n    except NameError:\n        pass\n    \n      ",
      "execution_count": null,
      "outputs": [
        {
          "output_type": "stream",
          "text": "id,empresa,nps,npstipo,causa1,causa2,causa3,region,prod,verbatim,verbatim2,problema,servicio,conveniencia,relacionamiento\n",
          "name": "stdout"
        }
      ]
    },
    {
      "metadata": {
        "trusted": true
      },
      "cell_type": "code",
      "source": "",
      "execution_count": null,
      "outputs": []
    }
  ],
  "metadata": {
    "kernelspec": {
      "name": "python36",
      "display_name": "Python 3.6",
      "language": "python"
    },
    "language_info": {
      "mimetype": "text/x-python",
      "nbconvert_exporter": "python",
      "name": "python",
      "pygments_lexer": "ipython3",
      "version": "3.6.6",
      "file_extension": ".py",
      "codemirror_mode": {
        "version": 3,
        "name": "ipython"
      }
    }
  },
  "nbformat": 4,
  "nbformat_minor": 2
}