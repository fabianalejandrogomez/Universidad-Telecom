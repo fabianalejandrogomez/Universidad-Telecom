{
 "cells": [
  {
   "cell_type": "markdown",
   "metadata": {},
   "source": [
    "# NPS: Chart With data from CSV to PPT"
   ]
  },
  {
   "cell_type": "code",
   "execution_count": 1,
   "metadata": {},
   "outputs": [],
   "source": [
    "import pandas as pd\n",
    "\n",
    "NPS = pd.read_csv(\"/Users/casa/Desktop/Python/Python-PPT/Python-PPT-NPS.csv\", sep='\\t', delimiter=';', decimal=',')"
   ]
  },
  {
   "cell_type": "raw",
   "metadata": {},
   "source": [
    "Cantidad de Columnas y filas del CSV (Columnas incluye la variable pero filas no inluye el cabezal)"
   ]
  },
  {
   "cell_type": "code",
   "execution_count": 2,
   "metadata": {},
   "outputs": [
    {
     "data": {
      "text/plain": [
       "9"
      ]
     },
     "execution_count": 2,
     "metadata": {},
     "output_type": "execute_result"
    }
   ],
   "source": [
    "len(NPS.columns)"
   ]
  },
  {
   "cell_type": "code",
   "execution_count": 3,
   "metadata": {},
   "outputs": [
    {
     "data": {
      "text/plain": [
       "3"
      ]
     },
     "execution_count": 3,
     "metadata": {},
     "output_type": "execute_result"
    }
   ],
   "source": [
    "len(NPS.index)"
   ]
  },
  {
   "cell_type": "code",
   "execution_count": 4,
   "metadata": {},
   "outputs": [
    {
     "data": {
      "text/plain": [
       "0    12.3\n",
       "1    14.5\n",
       "2    16.7\n",
       "Name: 2Q17, dtype: float64"
      ]
     },
     "execution_count": 4,
     "metadata": {},
     "output_type": "execute_result"
    }
   ],
   "source": [
    "NPS[NPS.columns[2]]"
   ]
  },
  {
   "cell_type": "code",
   "execution_count": 5,
   "metadata": {},
   "outputs": [
    {
     "name": "stdout",
     "output_type": "stream",
     "text": [
      "(10.2, 9.4, 15.6)\n"
     ]
    }
   ],
   "source": [
    "Q1_17 = (tuple(NPS['1Q17']))\n",
    "print(Q1_17)"
   ]
  },
  {
   "cell_type": "code",
   "execution_count": 6,
   "metadata": {},
   "outputs": [
    {
     "name": "stdout",
     "output_type": "stream",
     "text": [
      "(12.3, 14.5, 16.7)\n"
     ]
    }
   ],
   "source": [
    "Q1_17b = (tuple(NPS[NPS.columns[2]]))\n",
    "print(Q1_17b)"
   ]
  },
  {
   "cell_type": "code",
   "execution_count": 7,
   "metadata": {},
   "outputs": [],
   "source": [
    "import inspect\n",
    "\n",
    "def get_var_name(var):\n",
    "    callers_local_vars = inspect.currentframe().f_back.f_locals.items()\n",
    "    return [k for k, v in callers_local_vars if v is var]"
   ]
  },
  {
   "cell_type": "code",
   "execution_count": 8,
   "metadata": {},
   "outputs": [
    {
     "name": "stdout",
     "output_type": "stream",
     "text": [
      "['Q1_17']\n"
     ]
    }
   ],
   "source": [
    "a = (get_var_name(Q1_17))\n",
    "print(get_var_name(Q1_17))"
   ]
  },
  {
   "cell_type": "code",
   "execution_count": 9,
   "metadata": {},
   "outputs": [
    {
     "name": "stdout",
     "output_type": "stream",
     "text": [
      "['1Q17']\n"
     ]
    }
   ],
   "source": [
    "name = NPS.columns.values[1]\n",
    "name3 = name.split()\n",
    "print (name3)"
   ]
  },
  {
   "cell_type": "code",
   "execution_count": 10,
   "metadata": {},
   "outputs": [
    {
     "name": "stdout",
     "output_type": "stream",
     "text": [
      "['Q1_17', (10.2, 9.4, 15.6)]\n"
     ]
    }
   ],
   "source": [
    "a.append(Q1_17)\n",
    "print (a)"
   ]
  },
  {
   "cell_type": "code",
   "execution_count": 11,
   "metadata": {},
   "outputs": [
    {
     "data": {
      "text/plain": [
       "'Q1_17'"
      ]
     },
     "execution_count": 11,
     "metadata": {},
     "output_type": "execute_result"
    }
   ],
   "source": [
    "v, y = a\n",
    "v"
   ]
  },
  {
   "cell_type": "code",
   "execution_count": 12,
   "metadata": {},
   "outputs": [
    {
     "data": {
      "text/plain": [
       "(10.2, 9.4, 15.6)"
      ]
     },
     "execution_count": 12,
     "metadata": {},
     "output_type": "execute_result"
    }
   ],
   "source": [
    "v, y = a\n",
    "y"
   ]
  },
  {
   "cell_type": "code",
   "execution_count": 13,
   "metadata": {},
   "outputs": [
    {
     "name": "stdout",
     "output_type": "stream",
     "text": [
      "['1Q17', (12.3, 14.5, 16.7)]\n"
     ]
    }
   ],
   "source": [
    "name3.append(Q1_17b)\n",
    "print (name3)"
   ]
  },
  {
   "cell_type": "code",
   "execution_count": 14,
   "metadata": {},
   "outputs": [
    {
     "data": {
      "text/plain": [
       "'1Q17'"
      ]
     },
     "execution_count": 14,
     "metadata": {},
     "output_type": "execute_result"
    }
   ],
   "source": [
    "w, z = name3\n",
    "w"
   ]
  },
  {
   "cell_type": "code",
   "execution_count": 15,
   "metadata": {},
   "outputs": [
    {
     "data": {
      "text/plain": [
       "(12.3, 14.5, 16.7)"
      ]
     },
     "execution_count": 15,
     "metadata": {},
     "output_type": "execute_result"
    }
   ],
   "source": [
    "w, z = name3\n",
    "z"
   ]
  },
  {
   "cell_type": "code",
   "execution_count": 16,
   "metadata": {},
   "outputs": [],
   "source": [
    "from pptx import Presentation\n",
    "from pptx.chart.data import CategoryChartData\n",
    "from pptx.enum.chart import XL_CHART_TYPE\n",
    "from pptx.util import Inches\n",
    "\n",
    "# create presentation with 1 slide ------\n",
    "prs = Presentation()\n",
    "slide = prs.slides.add_slide(prs.slide_layouts[5])\n",
    "\n",
    "# define chart data ---------------------\n",
    "chart_data = CategoryChartData()\n",
    "chart_data.categories = ['Personal', 'Movistar', 'Claro']\n",
    "chart_data.add_series(w, z)\n",
    "chart_data.add_series(w, z)\n",
    "chart_data.add_series(w, z)\n",
    "\n",
    "# add chart to slide --------------------\n",
    "x, y, cx, cy = Inches(2), Inches(2), Inches(6), Inches(4.5)\n",
    "slide.shapes.add_chart(\n",
    "XL_CHART_TYPE.COLUMN_CLUSTERED, x, y, cx, cy, chart_data\n",
    ")\n",
    "prs.save('NPS_Evolutivo_Total.pptx')"
   ]
  },
  {
   "cell_type": "raw",
   "metadata": {},
   "source": []
  },
  {
   "cell_type": "code",
   "execution_count": null,
   "metadata": {},
   "outputs": [],
   "source": []
  }
 ],
 "metadata": {
  "kernelspec": {
   "display_name": "Python 3",
   "language": "python",
   "name": "python3"
  },
  "language_info": {
   "codemirror_mode": {
    "name": "ipython",
    "version": 3
   },
   "file_extension": ".py",
   "mimetype": "text/x-python",
   "name": "python",
   "nbconvert_exporter": "python",
   "pygments_lexer": "ipython3",
   "version": "3.7.1"
  }
 },
 "nbformat": 4,
 "nbformat_minor": 2
}
