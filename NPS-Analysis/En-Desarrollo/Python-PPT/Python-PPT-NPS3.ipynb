{
 "cells": [
  {
   "cell_type": "markdown",
   "metadata": {},
   "source": [
    "# NPS: Chart With data from CSV to PPT"
   ]
  },
  {
   "cell_type": "code",
   "execution_count": 1,
   "metadata": {},
   "outputs": [],
   "source": [
    "import pandas as pd\n",
    "\n",
    "NPS = pd.read_csv(\"/Users/casa/Desktop/Python/Python-PPT/Python-PPT-NPS.csv\", sep='\\t', delimiter=';', decimal=',')"
   ]
  },
  {
   "cell_type": "raw",
   "metadata": {},
   "source": [
    "Cantidad de Columnas y filas del CSV (Columnas incluye la variable pero filas no inluye el cabezal)"
   ]
  },
  {
   "cell_type": "code",
   "execution_count": 2,
   "metadata": {},
   "outputs": [
    {
     "name": "stdout",
     "output_type": "stream",
     "text": [
      "4\n"
     ]
    }
   ],
   "source": [
    "largo = len(NPS.columns)\n",
    "print (largo)"
   ]
  },
  {
   "cell_type": "code",
   "execution_count": 3,
   "metadata": {},
   "outputs": [
    {
     "data": {
      "text/plain": [
       "8"
      ]
     },
     "execution_count": 3,
     "metadata": {},
     "output_type": "execute_result"
    }
   ],
   "source": [
    "len(NPS.index)"
   ]
  },
  {
   "cell_type": "code",
   "execution_count": 4,
   "metadata": {},
   "outputs": [],
   "source": [
    "from pptx import Presentation\n",
    "from pptx.chart.data import CategoryChartData\n",
    "from pptx.enum.chart import XL_CHART_TYPE\n",
    "from pptx.util import Inches, Pt\n",
    "\n",
    "\n",
    "\n",
    "# create presentation with 1 slide ------\n",
    "prs = Presentation()\n",
    "prs.slide_width = 11887200 # 13 inches\n",
    "prs.slide_height = 6686550 # 7.3125 inches\n",
    "\n",
    "slide = prs.slides.add_slide(prs.slide_layouts[5])\n",
    "\n",
    "# define Shape de fondo ---------------------\n",
    "\n",
    "from pptx.enum.shapes import MSO_SHAPE\n",
    "from pptx.enum.dml import MSO_THEME_COLOR\n",
    "from pptx.dml.color import RGBColor\n",
    "\n",
    "shapes = slide.shapes\n",
    "left = Inches(0.0)\n",
    "top = Inches(0.0)\n",
    "width = Inches(13.0)\n",
    "height = Inches(7.3125)\n",
    "\n",
    "shape = shapes.add_shape(MSO_SHAPE.RECTANGLE, left, top, width, height)\n",
    "fill = shape.fill\n",
    "fill.solid()\n",
    "fill.fore_color.rgb = RGBColor(231, 231, 231)\n",
    "fill.fore_color.brightness = 0.25\n",
    "\n",
    "line = shape.line\n",
    "line.color.rgb = RGBColor(231, 231, 231)\n",
    "line.color.brightness = 0.25\n",
    "\n",
    "# define Titulo ---------------------\n",
    "\n",
    "title_slide_layout = prs.slide_layouts[0]\n",
    "title = slide.shapes.title\n",
    "title.text = \"NPS Relacional - Mercado Móvil\"\n",
    "\n",
    "# define Texto ---------------------\n",
    "\n",
    "from pptx.util import Inches, Pt\n",
    "from pptx.enum.text import MSO_ANCHOR, MSO_AUTO_SIZE\n",
    "\n",
    "text_frame = shape.text_frame\n",
    "text_frame.margin_left = Inches(-7)\n",
    "text_frame.margin_top = Inches(-6.5)\n",
    "text_frame.word_wrap = False\n",
    "text_frame.auto_size = MSO_AUTO_SIZE.SHAPE_TO_FIT_TEXT\n",
    "\n",
    "p = text_frame.paragraphs[0]\n",
    "run = p.add_run()\n",
    "run.text = 'NPS - Mercado Móvil'\n",
    "\n",
    "font = run.font\n",
    "font.name = 'Tahoma'\n",
    "font.size = Pt(22)\n",
    "font.bold = True\n",
    "font.italic = None # cause value to be inherited from theme\n",
    "font.color.rgb = RGBColor(100, 100, 100)\n",
    "\n",
    "\n",
    "# Agrega imagenes ---------------------\n",
    "img_path = '/Users/casa/Desktop/Python/Python-PPT/personal.png'\n",
    "left = Inches(10)\n",
    "top = Inches(0.3)\n",
    "width = Inches(1)\n",
    "height = Inches(0.5)\n",
    "pic = slide.shapes.add_picture(img_path, left, top, width, height)\n",
    "\n",
    "img_path = '/Users/casa/Desktop/Python/Python-PPT/movistar.jpg'\n",
    "left = Inches(11)\n",
    "top = Inches(0.3)\n",
    "width = Inches(0.9)\n",
    "height = Inches(0.5)\n",
    "pic = slide.shapes.add_picture(img_path, left, top, width, height)\n",
    "\n",
    "img_path = '/Users/casa/Desktop/Python/Python-PPT/claro.png'\n",
    "left = Inches(12)\n",
    "top = Inches(0.3)\n",
    "width = Inches(0.5)\n",
    "height = Inches(0.5)\n",
    "pic = slide.shapes.add_picture(img_path, left, top, width, height)\n",
    "\n",
    "# define chart data ---------------------\n",
    "chart_data = CategoryChartData()\n",
    "\n",
    "variable = (tuple(NPS[NPS.columns[0]]))\n",
    "chart_data.categories = variable\n",
    "\n",
    "vuelta = 0\n",
    "for x in range(1, largo):\n",
    "    vuelta = vuelta+1  \n",
    "    columnita = (tuple(NPS[NPS.columns[vuelta]]))\n",
    "    nombre = NPS.columns.values[vuelta]\n",
    "    nombrecito = nombre.split()\n",
    "    nombrecito.append(columnita)\n",
    "    a, b = nombrecito\n",
    "    chart_data.add_series(a, b)\n",
    "\n",
    "\n",
    "# add chart to slide --------------------\n",
    "x, y, cx, cy = Inches(0.7), Inches(5), Inches(3), Inches(2)\n",
    "slide.shapes.add_chart(XL_CHART_TYPE.COLUMN_CLUSTERED, x, y, cx, cy, chart_data)\n",
    "\n",
    "\n",
    "# define line chart data ---------------------\n",
    "from pptx.chart.data import ChartData\n",
    "chart_data = ChartData()\n",
    "from pptx.enum.chart import XL_LEGEND_POSITION\n",
    "\n",
    "variable = (tuple(NPS[NPS.columns[0]]))\n",
    "chart_data.categories = variable\n",
    "\n",
    "vuelta = 0\n",
    "for x in range(1, largo):\n",
    "    vuelta = vuelta+1  \n",
    "    columnita = (tuple(NPS[NPS.columns[vuelta]]))\n",
    "    nombre = NPS.columns.values[vuelta]\n",
    "    nombrecito = nombre.split()\n",
    "    nombrecito.append(columnita)\n",
    "    a, b = nombrecito\n",
    "    chart_data.add_series(a, b)\n",
    "\n",
    "# add chart to slide --------------------\n",
    "from pptx.enum.chart import XL_TICK_MARK\n",
    "from pptx.util import Pt\n",
    "\n",
    "x, y, cx, cy = Inches(0.7), Inches(0.7), Inches(9), Inches(4)\n",
    "chart = slide.shapes.add_chart(XL_CHART_TYPE.LINE, x, y, cx, cy, chart_data).chart\n",
    "chart.has_legend = False\n",
    "chart.series[0].smooth = True\n",
    "\n",
    "category_axis = chart.category_axis\n",
    "tick_labels = category_axis.tick_labels\n",
    "tick_labels.visible = True\n",
    "\n",
    "font = tick_labels.font\n",
    "font.name = 'Tahoma'\n",
    "font.size = Pt(10)\n",
    "font.bold = True\n",
    "font.italic = None \n",
    "font.color.rgb = RGBColor(100, 100, 100)\n",
    "\n",
    "\n",
    "value_axis = chart.value_axis\n",
    "value_axis.maximum_scale = 40.0\n",
    "value_axis.has_minor_gridlines = False\n",
    "value_axis.has_major_gridlines = False\n",
    "tick_labels = value_axis.tick_labels\n",
    "tick_labels.visible = False\n",
    "\n",
    "font = tick_labels.font\n",
    "font.name = 'Tahoma'\n",
    "font.size = Pt(1)\n",
    "font.bold = True\n",
    "font.italic = None \n",
    "font.color.rgb = RGBColor(231, 231, 231)\n",
    "\n",
    "# Genera PPT --------------------\n",
    "prs.save('NPS_Evolutivo_Total.pptx')"
   ]
  },
  {
   "cell_type": "raw",
   "metadata": {},
   "source": []
  },
  {
   "cell_type": "code",
   "execution_count": null,
   "metadata": {},
   "outputs": [],
   "source": []
  },
  {
   "cell_type": "code",
   "execution_count": null,
   "metadata": {},
   "outputs": [],
   "source": []
  }
 ],
 "metadata": {
  "kernelspec": {
   "display_name": "Python 3",
   "language": "python",
   "name": "python3"
  },
  "language_info": {
   "codemirror_mode": {
    "name": "ipython",
    "version": 3
   },
   "file_extension": ".py",
   "mimetype": "text/x-python",
   "name": "python",
   "nbconvert_exporter": "python",
   "pygments_lexer": "ipython3",
   "version": "3.7.1"
  }
 },
 "nbformat": 4,
 "nbformat_minor": 2
}
