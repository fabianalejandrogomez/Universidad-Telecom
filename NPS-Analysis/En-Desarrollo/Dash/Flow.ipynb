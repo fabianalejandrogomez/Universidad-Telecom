{
  "cells": [
    {
      "metadata": {
        "trusted": true
      },
      "cell_type": "code",
      "source": "import dash",
      "execution_count": 24,
      "outputs": []
    },
    {
      "metadata": {
        "trusted": true
      },
      "cell_type": "code",
      "source": "import dash\nimport dash_core_components as dcc\nimport dash_html_components as html\n\nexternal_stylesheets = ['https://codepen.io/chriddyp/pen/bWLwgP.css']\n\napp = dash.Dash(__name__, external_stylesheets=external_stylesheets)\n\ncolors = {\n    'background': '#111111',\n    'text': '#7FDBFF'\n}\n\napp.layout = html.Div(style={'backgroundColor': colors['background']}, children=[\n    html.H1(\n        children='Hello Dash',\n        style={\n            'textAlign': 'center',\n            'color': colors['text']\n        }\n    ),\n\n    html.Div(children='Dash: A web application framework for Python.', style={\n        'textAlign': 'center',\n        'color': colors['text']\n    }),\n\n    dcc.Graph(\n        id='example-graph-2',\n        figure={\n            'data': [\n                {'x': [1, 2, 3], 'y': [4, 1, 2], 'type': 'bar', 'name': 'SF'},\n                {'x': [1, 2, 3], 'y': [2, 4, 5], 'type': 'bar', 'name': u'Montréal'},\n            ],\n            'layout': {\n                'plot_bgcolor': colors['background'],\n                'paper_bgcolor': colors['background'],\n                'font': {\n                    'color': colors['text']\n                }\n            }\n        }\n    )\n])\n\nif __name__ == '__main__':\n    app.run_server(debug=True)",
      "execution_count": 26,
      "outputs": [
        {
          "output_type": "stream",
          "text": "Please update the `dash` module to >= 0.23.1 to use this version of dash_core_components.\nYou are using version 0.17.3\n",
          "name": "stderr"
        },
        {
          "output_type": "error",
          "ename": "SystemExit",
          "evalue": "1",
          "traceback": [
            "An exception has occurred, use %tb to see the full traceback.\n",
            "\u001b[0;31mSystemExit\u001b[0m\u001b[0;31m:\u001b[0m 1\n"
          ]
        }
      ]
    },
    {
      "metadata": {
        "trusted": true
      },
      "cell_type": "code",
      "source": "",
      "execution_count": null,
      "outputs": []
    }
  ],
  "metadata": {
    "kernelspec": {
      "name": "python36",
      "display_name": "Python 3.6",
      "language": "python"
    },
    "language_info": {
      "mimetype": "text/x-python",
      "nbconvert_exporter": "python",
      "name": "python",
      "pygments_lexer": "ipython3",
      "version": "3.6.6",
      "file_extension": ".py",
      "codemirror_mode": {
        "version": 3,
        "name": "ipython"
      }
    }
  },
  "nbformat": 4,
  "nbformat_minor": 2
}