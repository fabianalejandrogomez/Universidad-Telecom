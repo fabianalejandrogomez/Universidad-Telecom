{
  "nbformat": 4,
  "nbformat_minor": 0,
  "metadata": {
    "colab": {
      "name": "Untitled3.ipynb",
      "provenance": [],
      "collapsed_sections": []
    },
    "kernelspec": {
      "name": "python3",
      "display_name": "Python 3"
    }
  },
  "cells": [
    {
      "cell_type": "markdown",
      "metadata": {
        "id": "j4I7VH16AG4g",
        "colab_type": "text"
      },
      "source": [
        "**otagai ni rei**: El saludo entre todos los practicantes"
      ]
    },
    {
      "cell_type": "code",
      "metadata": {
        "id": "mY1WenyLECrj",
        "colab_type": "code",
        "colab": {
          "base_uri": "https://localhost:8080/",
          "height": 34
        },
        "outputId": "ec487d5f-0561-4061-a57b-e6f1aab32f7f"
      },
      "source": [
        "horario = \"noche\"\n",
        "if horario == \"mañana\":\n",
        "  print(\"Ohayo gozaimasu (buen día)\")\n",
        "elif horario == \"tarde\":\n",
        "  print(\"konnichiwa (buenas tardes)\")\n",
        "else:\n",
        "  print(\"konbanwa (buenas tardes)\")"
      ],
      "execution_count": 15,
      "outputs": [
        {
          "output_type": "stream",
          "text": [
            "konbanwa (buenas tardes)\n"
          ],
          "name": "stdout"
        }
      ]
    }
  ]
}