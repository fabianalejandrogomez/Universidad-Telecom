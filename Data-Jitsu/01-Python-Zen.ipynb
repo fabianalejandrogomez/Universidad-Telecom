{
  "nbformat": 4,
  "nbformat_minor": 0,
  "metadata": {
    "colab": {
      "name": "Untitled1.ipynb",
      "provenance": [],
      "collapsed_sections": []
    },
    "kernelspec": {
      "name": "python3",
      "display_name": "Python 3"
    }
  },
  "cells": [
    {
      "cell_type": "markdown",
      "metadata": {
        "id": "s44q0Xhk5d4b",
        "colab_type": "text"
      },
      "source": [
        "Python Zen"
      ]
    },
    {
      "cell_type": "markdown",
      "metadata": {
        "id": "DU6pssdx5ojN",
        "colab_type": "text"
      },
      "source": [
        "Bello es mejor que feo.\n",
        "Explícito es mejor que implícito.\n",
        "Simple es mejor que complejo.\n",
        "Complejo es mejor que complicado.\n",
        "Plano es mejor que anidado.\n",
        "Espaciado es mejor que denso.\n",
        "La legibilidad es importante.\n",
        "Los casos especiales no son lo suficientemente especiales como para romper las reglas.\n",
        "Sin embargo la practicidad le gana a la pureza.\n",
        "Los errores nunca deberían pasar silenciosamente.\n",
        "A menos que se silencien explícitamente.\n",
        "Frente a la ambigüedad, evitar la tentación de adivinar.\n",
        "Debería haber una, y preferiblemente solo una, manera obvia de hacerlo.\n",
        "A pesar de que esa manera no sea obvia a menos que seas Holandés.\n",
        "Ahora es mejor que nunca.\n",
        "A pesar de que nunca es muchas veces mejor que *ahora* mismo.\n",
        "Si la implementación es difícil de explicar, es una mala idea.\n",
        "Si la implementación es fácil de explicar, puede que sea una buena idea.\n",
        "Los espacios de nombres son una gran idea, ¡tengamos más de esos!"
      ]
    },
    {
      "cell_type": "code",
      "metadata": {
        "id": "7ZrAfbqN5dTl",
        "colab_type": "code",
        "colab": {}
      },
      "source": [
        ""
      ],
      "execution_count": null,
      "outputs": []
    }
  ]
}